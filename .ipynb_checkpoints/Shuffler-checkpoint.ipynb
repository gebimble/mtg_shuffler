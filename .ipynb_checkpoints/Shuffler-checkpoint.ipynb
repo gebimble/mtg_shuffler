{
 "cells": [
  {
   "cell_type": "markdown",
   "metadata": {},
   "source": [
    "I'm having a look at how to optimise mashed shuffling (for magic reasons!)"
   ]
  },
  {
   "cell_type": "code",
   "execution_count": 1,
   "metadata": {},
   "outputs": [],
   "source": [
    "%matplotlib inline\n",
    "\n",
    "import os\n",
    "\n",
    "import random\n",
    "import pickle\n",
    "\n",
    "import json\n",
    "\n",
    "import numpy as np\n",
    "from scipy.stats import multivariate_normal as multinomial\n",
    "from scipy.stats import rv_discrete\n",
    "from scipy.stats import norm\n",
    "\n",
    "import pandas as pd\n",
    "\n",
    "from matplotlib import pyplot\n",
    "import seaborn\n",
    "\n",
    "from mtgsdk import Card"
   ]
  },
  {
   "cell_type": "markdown",
   "metadata": {},
   "source": [
    "A function to return card names from the mtgsdk."
   ]
  },
  {
   "cell_type": "code",
   "execution_count": 2,
   "metadata": {},
   "outputs": [],
   "source": [
    "def get_card(card_name):\n",
    "    print(f'Retrieving: {card_name.title()}.')\n",
    "    card = Card.where(name=card_name).all()[0]\n",
    "    print(f'{card_name.title()} retrieved!\\n')\n",
    "    \n",
    "    return card"
   ]
  },
  {
   "cell_type": "markdown",
   "metadata": {},
   "source": [
    "A rifle shuffle function.\n",
    "TODO : make this work for an arbitrary left/right hand drop"
   ]
  },
  {
   "cell_type": "code",
   "execution_count": 3,
   "metadata": {},
   "outputs": [],
   "source": [
    "def rifle_shuffle(deck_list):\n",
    "    \n",
    "    pile = []\n",
    "    \n",
    "    a = [a for a in range(28,33)]\n",
    "    split = random.choices(a)[0]\n",
    "    \n",
    "    d = [a for a in range(1,2)]\n",
    "    \n",
    "    half1 = deck_list[:split]\n",
    "    half2 = deck_list[split:]\n",
    "    \n",
    "    while (half1 and half2):\n",
    "        half1_drop_number = random.choices(d)[0]\n",
    "        half2_drop_number = random.choices(d)[0]\n",
    "        pile = pile + half1[-half1_drop_number:] + half2[-half2_drop_number:]\n",
    "        half1 = half1[:-half1_drop_number]\n",
    "        half2 = half2[:-half2_drop_number]\n",
    "        \n",
    "    if half1:\n",
    "        pile = half1 + pile\n",
    "        \n",
    "    if half2:\n",
    "        pile = half2 + pile\n",
    "    \n",
    "    return pile"
   ]
  },
  {
   "cell_type": "markdown",
   "metadata": {},
   "source": [
    "Overhand shuffling algorithm."
   ]
  },
  {
   "cell_type": "code",
   "execution_count": 16,
   "metadata": {},
   "outputs": [],
   "source": [
    "def overhand_shuffle(deck_list):\n",
    "    a = [x for x in range(100)]\n",
    "    \n",
    "    pdf = multinomial.pdf(a, mean=7, cov=6)\n",
    "    norm_pdf = [(val/sum(pdf)) for val in pdf]\n",
    "        \n",
    "    right_hand = deck_list[:]\n",
    "    left_hand = []\n",
    "    while len(right_hand) > 7:\n",
    "        overhand_dist = rv_discrete(a=1, b=len(right_hand), values=(a,norm_pdf))\n",
    "        drop = overhand_dist.rvs(size=1)[0]\n",
    "        left_hand = right_hand[:drop] + left_hand\n",
    "        right_hand = right_hand[drop:]\n",
    "    left_hand = right_hand + left_hand\n",
    "    right_hand = []\n",
    "    \n",
    "    return left_hand"
   ]
  },
  {
   "cell_type": "markdown",
   "metadata": {},
   "source": [
    "Function to combine different shuffle types, and examine the hand retrieved from this process.\n",
    "TODO : put in the 'qualities' stuff."
   ]
  },
  {
   "cell_type": "code",
   "execution_count": 86,
   "metadata": {},
   "outputs": [],
   "source": [
    "def create_hand(deck):\n",
    "    \n",
    "    hand = [item for item in deck[:7]]\n",
    "\n",
    "    df = make_dataframe(hand)\n",
    "    \n",
    "    hand_types = set(df['type'])\n",
    "        \n",
    "    hand_cards = df['name'])\n",
    "            \n",
    "    hand_qualities['quality'] = get_hand_attribute(hand, 'quality')        \n",
    "    \n",
    "    return hand, hand_types, hand_cards, hand_qualities"
   ]
  },
  {
   "cell_type": "code",
   "execution_count": 104,
   "metadata": {},
   "outputs": [],
   "source": [
    "def make_dataframe(deck, parameters=['name', 'mana_cost', \n",
    "                                     'cmc', 'quality', 'type']):\n",
    "    \n",
    "    keys = []\n",
    "    values = []\n",
    "\n",
    "    data = []\n",
    "\n",
    "    for card in deck:\n",
    "        values = []\n",
    "\n",
    "        for item in parameters:\n",
    "            values.append(getattr(card, item))\n",
    "\n",
    "        data.append(values)\n",
    "\n",
    "    df = pd.DataFrame(data, columns=parameters)\n",
    "    \n",
    "    return df"
   ]
  },
  {
   "cell_type": "code",
   "execution_count": 92,
   "metadata": {},
   "outputs": [],
   "source": [
    "def shuffle(deck, search_criteria, iterations=1000,\n",
    "            overhand_interval=2):\n",
    "    \n",
    "    stats = []\n",
    "\n",
    "    for i in range(iterations):\n",
    "        shuffles = 0\n",
    "        overhand_shuffles = False\n",
    "        \n",
    "        hand, hand_types, hand_cards, hand_qualities = create_hand(deck)\n",
    "        \n",
    "        while not (search_criteria['quality'].issubset(hand_qualities['quality'])\n",
    "                   and ((hand_types.count('Basic Land — Swamp') == 2) or\n",
    "                        ((hand_cards.count('Urborg, Tomb of Yawgmoth') == 1) and\n",
    "                         (hand_types.count('Land') == 2)))):\n",
    "        \n",
    "            deck = rifle_shuffle(deck)\n",
    "        \n",
    "            hand, hand_types, hand_cards, hand_qualities = create_hand(deck)\n",
    "        \n",
    "            shuffles = shuffles + 1\n",
    "            \n",
    "            if (shuffles % overhand_interval) == 0:\n",
    "                overhand_shuffles = True\n",
    "            else:\n",
    "                overhand_shuffles = False\n",
    "\n",
    "            #if shuffles >= 15:\n",
    "            #    break\n",
    "\n",
    "        #if overhand_shuffles:\n",
    "        #    deck = overhand_shuffle(deck)\n",
    "\n",
    "        stats.append({'shuffles': shuffles, 'hand': hand})\n",
    "\n",
    "    return stats"
   ]
  },
  {
   "cell_type": "code",
   "execution_count": 18,
   "metadata": {},
   "outputs": [],
   "source": [
    "def get_hand_attribute(hand, attribute):\n",
    "    quality_list = [make_list(getattr(card, str(attribute))) for card in hand]\n",
    "    quality_list = [item for sublist in quality_list for item in sublist]\n",
    "    \n",
    "    quality_set = set(quality_list)\n",
    "    \n",
    "    return quality_set"
   ]
  },
  {
   "cell_type": "code",
   "execution_count": 19,
   "metadata": {},
   "outputs": [],
   "source": [
    "def make_list(item):\n",
    "    if not isinstance(item, list):\n",
    "        item = [item]\n",
    "    \n",
    "    return item"
   ]
  },
  {
   "cell_type": "code",
   "execution_count": 20,
   "metadata": {},
   "outputs": [],
   "source": [
    "deck_json = 'deck.json'\n",
    "deck_pickle = 'deck.pkl'\n",
    "\n",
    "if os.path.isfile(deck_pickle):\n",
    "    with open(deck_pickle, 'rb') as f:\n",
    "        deck_list = pickle.load(f)\n",
    "else:\n",
    "    with open(deck_json, 'rb') as f:\n",
    "        card_list = json.load(f)\n",
    "\n",
    "    cards = {}\n",
    "\n",
    "    for i in card_list.keys():\n",
    "        name = card_list[i]['name']\n",
    "        quantity = card_list[i]['quantity']\n",
    "        quality = card_list[i]['quality']\n",
    "        card = get_card(name)\n",
    "        card.quality = quality\n",
    "        cards[name] = [card, quantity]\n",
    "\n",
    "    deck_list = []\n",
    "\n",
    "    for key in cards.keys():\n",
    "        for i in range(0,cards[key][1]):\n",
    "            deck_list.append(cards[key][0])\n",
    "    with open('deck.pkl', 'wb') as f:\n",
    "        pickle.dump(deck_list, f)"
   ]
  },
  {
   "cell_type": "code",
   "execution_count": 46,
   "metadata": {},
   "outputs": [],
   "source": [
    "deck = list(random.sample(deck_list, len(deck_list)))\n",
    "\n",
    "search_terms = {'quality': {'targetted discard', \n",
    "                            'win condition',\n",
    "                            'recurring'}}"
   ]
  },
  {
   "cell_type": "code",
   "execution_count": 93,
   "metadata": {},
   "outputs": [],
   "source": [
    "stats = shuffle(deck_list, search_terms, overhand_interval=3)"
   ]
  },
  {
   "cell_type": "code",
   "execution_count": 94,
   "metadata": {},
   "outputs": [],
   "source": [
    "number_of_shuffles = [stat['shuffles'] for stat in stats]"
   ]
  },
  {
   "cell_type": "code",
   "execution_count": 95,
   "metadata": {},
   "outputs": [
    {
     "name": "stdout",
     "output_type": "stream",
     "text": [
      "Modal number of shuffles is: 0\n",
      "Average number of shuffles is: 32.545\n"
     ]
    },
    {
     "data": {
      "text/plain": [
       "<seaborn.axisgrid.FacetGrid at 0xa4ac79ac>"
      ]
     },
     "execution_count": 95,
     "metadata": {},
     "output_type": "execute_result"
    },
    {
     "data": {
      "image/png": "[encoded data removed]",
      "text/plain": [
       "<matplotlib.figure.Figure at 0xa4bd246c>"
      ]
     },
     "metadata": {},
     "output_type": "display_data"
    },
    {
     "data": {
      "image/png": "[encoded data removed]",
      "text/plain": [
       "<matplotlib.figure.Figure at 0xa4ac782c>"
      ]
     },
     "metadata": {},
     "output_type": "display_data"
    }
   ],
   "source": [
    "print(f'Modal number of shuffles is: {max(set(number_of_shuffles), key=number_of_shuffles.count)}')\n",
    "print(f'Average number of shuffles is: {sum(number_of_shuffles)/len(number_of_shuffles)}')\n",
    "\n",
    "dist = {x:number_of_shuffles.count(x) for x in number_of_shuffles}\n",
    "\n",
    "scatter_keys = []\n",
    "scatter_values = []\n",
    "\n",
    "for key, value in dist.items():\n",
    "    scatter_keys.append(key)\n",
    "    scatter_values.append(value)\n",
    "\n",
    "scatter_data = pd.DataFrame({'shuffles': scatter_keys,\n",
    "                             'frequency': scatter_values})\n",
    "    \n",
    "\n",
    "a4_dims = (11.7, 8.27)\n",
    "fig, ax = pyplot.subplots(figsize=a4_dims)\n",
    "\n",
    "seaborn.distplot(number_of_shuffles, ax=ax)\n",
    "seaborn.lmplot('shuffles', 'frequency', scatter_data, fit_reg=False, size=10)"
   ]
  },
  {
   "cell_type": "code",
   "execution_count": 96,
   "metadata": {},
   "outputs": [],
   "source": [
    "total = 0\n",
    "cumulative = []\n",
    "\n",
    "keys = dist.keys()\n",
    "keys = sorted(keys)\n",
    "\n",
    "for key in keys:\n",
    "    total = total + int(dist[key])\n",
    "    cumulative.append(total)"
   ]
  },
  {
   "cell_type": "code",
   "execution_count": 97,
   "metadata": {},
   "outputs": [
    {
     "name": "stdout",
     "output_type": "stream",
     "text": [
      "0 3.8\n",
      "1 7.3\n",
      "2 9.1\n",
      "3 11.1\n",
      "4 12.9\n",
      "5 15.7\n",
      "6 17.9\n",
      "7 20.6\n",
      "8 24.0\n",
      "9 27.7\n",
      "10 29.4\n",
      "11 31.8\n",
      "12 33.9\n",
      "13 36.4\n",
      "14 38.5\n",
      "15 40.7\n",
      "16 42.2\n",
      "17 43.6\n",
      "18 45.7\n",
      "19 47.0\n",
      "20 47.9\n",
      "21 50.1\n",
      "22 51.5\n",
      "23 53.5\n",
      "24 54.7\n",
      "25 55.9\n",
      "26 56.9\n",
      "27 57.9\n",
      "28 58.9\n",
      "29 60.3\n",
      "30 61.4\n",
      "31 63.1\n",
      "32 64.9\n",
      "33 65.9\n",
      "34 66.5\n",
      "35 67.5\n",
      "36 68.2\n",
      "37 69.1\n",
      "38 69.6\n",
      "39 70.6\n",
      "40 71.2\n",
      "41 71.8\n",
      "42 72.1\n",
      "43 72.6\n",
      "44 73.3\n",
      "45 73.8\n",
      "46 74.9\n",
      "47 75.6\n",
      "48 76.5\n",
      "49 77.3\n",
      "50 77.8\n",
      "51 78.2\n",
      "52 79.5\n",
      "53 80.2\n",
      "54 80.8\n",
      "55 81.5\n",
      "56 81.9\n",
      "57 82.2\n",
      "58 82.6\n",
      "59 82.7\n",
      "60 83.5\n",
      "61 83.6\n",
      "62 84.0\n",
      "63 85.0\n",
      "64 85.7\n",
      "65 86.2\n",
      "66 86.8\n",
      "67 87.2\n",
      "68 87.3\n",
      "69 87.8\n",
      "70 87.9\n",
      "71 88.5\n",
      "72 89.1\n",
      "73 89.5\n",
      "74 89.8\n",
      "75 89.9\n",
      "76 90.4\n",
      "77 90.6\n",
      "78 90.8\n",
      "79 91.3\n",
      "80 91.6\n",
      "81 91.7\n",
      "82 91.8\n",
      "83 92.0\n",
      "84 92.3\n",
      "85 92.6\n",
      "86 92.7\n",
      "87 93.3\n",
      "88 93.6\n",
      "89 93.7\n",
      "90 93.9\n",
      "91 94.1\n",
      "92 94.2\n",
      "93 94.3\n",
      "94 94.4\n",
      "95 94.7\n",
      "96 94.9\n",
      "97 95.2\n",
      "98 95.4\n",
      "99 95.6\n",
      "100 95.8\n",
      "101 95.9\n",
      "102 96.0\n",
      "103 96.2\n",
      "104 96.3\n",
      "105 96.6\n",
      "106 96.8\n",
      "107 97.1\n",
      "108 97.2\n",
      "109 97.3\n",
      "110 97.5\n",
      "111 97.6\n",
      "112 97.7\n",
      "113 97.8\n",
      "114 97.9\n",
      "115 98.0\n",
      "116 98.1\n",
      "117 98.2\n",
      "118 98.3\n",
      "119 98.4\n",
      "120 98.5\n",
      "121 98.7\n",
      "122 98.8\n",
      "123 98.9\n",
      "124 99.0\n",
      "125 99.2\n",
      "126 99.4\n",
      "127 99.5\n",
      "128 99.6\n",
      "129 99.7\n",
      "130 99.8\n",
      "131 99.9\n",
      "132 100.0\n"
     ]
    }
   ],
   "source": [
    "for i, item in enumerate(cumulative):\n",
    "    print(i, 100 * float(item)/float(total))"
   ]
  },
  {
   "cell_type": "code",
   "execution_count": null,
   "metadata": {},
   "outputs": [],
   "source": []
  }
 ],
 "metadata": {
  "kernelspec": {
   "display_name": "Python 3",
   "language": "python",
   "name": "python3"
  },
  "language_info": {
   "codemirror_mode": {
    "name": "ipython",
    "version": 3
   },
   "file_extension": ".py",
   "mimetype": "text/x-python",
   "name": "python",
   "nbconvert_exporter": "python",
   "pygments_lexer": "ipython3",
   "version": "3.6.1"
  }
 },
 "nbformat": 4,
 "nbformat_minor": 2
}
