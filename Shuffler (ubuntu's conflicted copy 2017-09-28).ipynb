{
 "cells": [
  {
   "cell_type": "markdown",
   "metadata": {},
   "source": [
    "I'm having a look at how to optimise mashed shuffling (for magic reasons!)"
   ]
  },
  {
   "cell_type": "code",
   "execution_count": 2,
   "metadata": {},
   "outputs": [],
   "source": [
    "%matplotlib inline\n",
    "\n",
    "import os\n",
    "\n",
    "import random\n",
    "import pickle\n",
    "\n",
    "import json\n",
    "\n",
    "import numpy as np\n",
    "from scipy.stats import multivariate_normal as multinomial\n",
    "from scipy.stats import rv_discrete\n",
    "from scipy.stats import norm\n",
    "\n",
    "import pandas as pd\n",
    "\n",
    "from matplotlib import pyplot\n",
    "import seaborn\n",
    "\n",
    "from mtgsdk import Card"
   ]
  },
  {
   "cell_type": "markdown",
   "metadata": {},
   "source": [
    "A function to return card names from the mtgsdk."
   ]
  },
  {
   "cell_type": "code",
   "execution_count": 3,
   "metadata": {},
   "outputs": [],
   "source": [
    "def get_card(card_name):\n",
    "    print(f'Retrieving: {card_name.title()}.')\n",
    "    card = Card.where(name=card_name).all()[0]\n",
    "    print(f'{card_name.title()} retrieved!\\n')\n",
    "    \n",
    "    return card"
   ]
  },
  {
   "cell_type": "markdown",
   "metadata": {},
   "source": [
    "A rifle shuffle function.\n",
    "TODO : make this work for an arbitrary left/right hand drop"
   ]
  },
  {
   "cell_type": "code",
   "execution_count": 4,
   "metadata": {},
   "outputs": [],
   "source": [
    "def rifle_shuffle(deck_list):\n",
    "    \n",
    "    pile = []\n",
    "    \n",
    "    a = [a for a in range(28,33)]\n",
    "    split = random.choices(a)[0]\n",
    "    \n",
    "    d = [a for a in range(1,2)]\n",
    "    \n",
    "    half1 = deck_list[:split]\n",
    "    half2 = deck_list[split:]\n",
    "    \n",
    "    while (half1 and half2):\n",
    "        half1_drop_number = random.choices(d)[0]\n",
    "        half2_drop_number = random.choices(d)[0]\n",
    "        pile = pile + half1[-half1_drop_number:] + half2[-half2_drop_number:]\n",
    "        half1 = half1[:-half1_drop_number]\n",
    "        half2 = half2[:-half2_drop_number]\n",
    "        \n",
    "    if half1:\n",
    "        pile = half1 + pile\n",
    "        \n",
    "    if half2:\n",
    "        pile = half2 + pile\n",
    "    \n",
    "    return pile"
   ]
  },
  {
   "cell_type": "markdown",
   "metadata": {},
   "source": [
    "Overhand shuffling algorithm."
   ]
  },
  {
   "cell_type": "code",
   "execution_count": 5,
   "metadata": {},
   "outputs": [],
   "source": [
    "def overhand_shuffle(deck_list):\n",
    "    a = [x for x in range(100)]\n",
    "    \n",
    "    pdf = multinomial.pdf(a, mean=7, cov=6)\n",
    "    norm_pdf = [(val/sum(pdf)) for val in pdf]\n",
    "        \n",
    "    right_hand = deck_list[:]\n",
    "    left_hand = []\n",
    "    while len(right_hand) > 7:\n",
    "        overhand_dist = rv_discrete(a=1, b=len(right_hand), values=(a,norm_pdf))\n",
    "        drop = overhand_dist.rvs(size=1)[0]\n",
    "        left_hand = right_hand[:drop] + left_hand\n",
    "        right_hand = right_hand[drop:]\n",
    "    left_hand = right_hand + left_hand\n",
    "    right_hand = []\n",
    "    \n",
    "    return left_hand"
   ]
  },
  {
   "cell_type": "markdown",
   "metadata": {},
   "source": [
    "Function to combine different shuffle types, and examine the hand retrieved from this process.\n",
    "TODO : put in the 'qualities' stuff."
   ]
  },
  {
   "cell_type": "code",
   "execution_count": 6,
   "metadata": {},
   "outputs": [],
   "source": [
    "def shuffle(deck, search_criteria, overhand_interval):\n",
    "    stats = []\n",
    "\n",
    "    for i in range(1000):\n",
    "        deck = list(random.sample(deck_list, len(deck_list)))\n",
    "        hand = [item for item in deck[:7]]\n",
    "        shuffles = 0\n",
    "        overhand_shuffles = False\n",
    "        \n",
    "        hand_types = [item.type for item in hand]\n",
    "        \n",
    "        hand_cards = [item.name for item in hand]\n",
    "        \n",
    "        hand_qualities = {}\n",
    "        \n",
    "        for key in search_criteria.keys():\n",
    "            hand_qualities[key] = get_hand_attribute(hand, key)\n",
    "        \n",
    "        while not (search_criteria['quality'].issubset(hand_qualities['quality'])\n",
    "                   and hand_types.count('Land') == 1):\n",
    "            deck = rifle_shuffle(deck)\n",
    "            hand = [item for item in deck[:7]]\n",
    "            \n",
    "            hand_qualities['quality'] = get_hand_attribute(hand, 'quality')\n",
    "            \n",
    "            hand_types = [item.type for item in hand]\n",
    "        \n",
    "            hand_cards = [item.name for item in hand]\n",
    "            \n",
    "            \n",
    "            shuffles = shuffles + 1\n",
    "            if (shuffles % overhand_interval) == 0:\n",
    "                overhand_shuffles = True\n",
    "            else:\n",
    "                overhand_shuffles = False\n",
    "\n",
    "            #if shuffles >= 15:\n",
    "            #    break\n",
    "\n",
    "        if overhand_shuffles:\n",
    "            deck = overhand_shuffle(deck)\n",
    "\n",
    "        stats.append({'shuffles': shuffles, 'hand': hand})\n",
    "\n",
    "    return stats"
   ]
  },
  {
   "cell_type": "code",
   "execution_count": 7,
   "metadata": {},
   "outputs": [],
   "source": [
    "def get_hand_attribute(hand, attribute):\n",
    "    quality_list = [make_list(getattr(card, str(attribute))) for card in hand]\n",
    "    quality_list = [item for sublist in quality_list for item in sublist]\n",
    "    \n",
    "    quality_set = set(quality_list)\n",
    "    \n",
    "    return quality_set"
   ]
  },
  {
   "cell_type": "code",
   "execution_count": 8,
   "metadata": {},
   "outputs": [],
   "source": [
    "def make_list(item):\n",
    "    if not isinstance(item, list):\n",
    "        item = [item]\n",
    "    \n",
    "    return item"
   ]
  },
  {
   "cell_type": "code",
   "execution_count": 9,
   "metadata": {},
   "outputs": [],
   "source": [
    "deck_json = 'deck.json'\n",
    "deck_pickle = 'deck.pkl'\n",
    "\n",
    "if os.path.isfile(deck_pickle):\n",
    "    with open(deck_pickle, 'rb') as f:\n",
    "        deck_list = pickle.load(f)\n",
    "else:\n",
    "    with open(deck_json, 'rb') as f:\n",
    "        card_list = json.load(f)\n",
    "\n",
    "    cards = {}\n",
    "\n",
    "    for i in card_list.keys():\n",
    "        name = card_list[i]['name']\n",
    "        quantity = card_list[i]['quantity']\n",
    "        quality = card_list[i]['quality']\n",
    "        card = get_card(name)\n",
    "        card.quality = quality\n",
    "        cards[name] = [card, quantity]\n",
    "\n",
    "    deck_list = []\n",
    "\n",
    "    for key in cards.keys():\n",
    "        for i in range(0,cards[key][1]):\n",
    "            deck_list.append(cards[key][0])\n",
    "    with open('deck.pkl', 'wb') as f:\n",
    "        pickle.dump(deck_list, f)"
   ]
  },
  {
   "cell_type": "code",
   "execution_count": null,
   "metadata": {},
   "outputs": [],
   "source": [
    "search_terms = {'quality': {'targetted discard', \n",
    "                            'win condition',\n",
    "                            'recurring discard'}}"
   ]
  },
  {
   "cell_type": "code",
   "execution_count": 1,
   "metadata": {},
   "outputs": [
    {
     "ename": "NameError",
     "evalue": "name 'deck' is not defined",
     "output_type": "error",
     "traceback": [
      "\u001b[0;31m---------------------------------------------------------------------------\u001b[0m",
      "\u001b[0;31mNameError\u001b[0m                                 Traceback (most recent call last)",
      "\u001b[0;32m<ipython-input-1-0877f3dfba23>\u001b[0m in \u001b[0;36m<module>\u001b[0;34m()\u001b[0m\n\u001b[0;32m----> 1\u001b[0;31m \u001b[0mhand\u001b[0m \u001b[0;34m=\u001b[0m \u001b[0mdeck\u001b[0m\u001b[0;34m[\u001b[0m\u001b[0;34m:\u001b[0m\u001b[0;36m7\u001b[0m\u001b[0;34m]\u001b[0m\u001b[0;34m\u001b[0m\u001b[0m\n\u001b[0m",
      "\u001b[0;31mNameError\u001b[0m: name 'deck' is not defined"
     ]
    }
   ],
   "source": [
    "hand = deck[:7]"
   ]
  },
  {
   "cell_type": "code",
   "execution_count": null,
   "metadata": {},
   "outputs": [],
   "source": [
    "stats = shuffle(deck_list, search_terms, overhand_interval=3)"
   ]
  },
  {
   "cell_type": "code",
   "execution_count": null,
   "metadata": {},
   "outputs": [],
   "source": [
    "number_of_shuffles = [stat['shuffles'] for stat in stats]"
   ]
  },
  {
   "cell_type": "code",
   "execution_count": null,
   "metadata": {},
   "outputs": [],
   "source": [
    "print(f'Modal number of shuffles is: {max(set(number_of_shuffles), key=number_of_shuffles.count)}')\n",
    "print(f'Average number of shuffles is: {sum(number_of_shuffles)/len(number_of_shuffles)}')\n",
    "\n",
    "dist = {x:number_of_shuffles.count(x) for x in number_of_shuffles}\n",
    "\n",
    "scatter_keys = []\n",
    "scatter_values = []\n",
    "\n",
    "for key, value in dist.items():\n",
    "    scatter_keys.append(key)\n",
    "    scatter_values.append(value)\n",
    "\n",
    "scatter_data = pd.DataFrame({'shuffles': scatter_keys,\n",
    "                             'frequency': scatter_values})\n",
    "    \n",
    "\n",
    "a4_dims = (11.7, 8.27)\n",
    "fig, ax = pyplot.subplots(figsize=a4_dims)\n",
    "\n",
    "seaborn.distplot(number_of_shuffles, ax=ax)\n",
    "seaborn.lmplot('shuffles', 'frequency', scatter_data, fit_reg=False, size=10)"
   ]
  },
  {
   "cell_type": "code",
   "execution_count": null,
   "metadata": {},
   "outputs": [],
   "source": [
    "total = 0\n",
    "cumulative = []\n",
    "\n",
    "keys = dist.keys()\n",
    "keys = sorted(keys)\n",
    "\n",
    "for key in keys:\n",
    "    total = total + int(dist[key])\n",
    "    cumulative.append(total)"
   ]
  },
  {
   "cell_type": "code",
   "execution_count": null,
   "metadata": {},
   "outputs": [],
   "source": [
    "for i, item in enumerate(cumulative):\n",
    "    print(i, 100 * float(item)/float(total))"
   ]
  }
 ],
 "metadata": {
  "kernelspec": {
   "display_name": "Python 3",
   "language": "python",
   "name": "python3"
  },
  "language_info": {
   "codemirror_mode": {
    "name": "ipython",
    "version": 3
   },
   "file_extension": ".py",
   "mimetype": "text/x-python",
   "name": "python",
   "nbconvert_exporter": "python",
   "pygments_lexer": "ipython3",
   "version": "3.6.1"
  }
 },
 "nbformat": 4,
 "nbformat_minor": 2
}
