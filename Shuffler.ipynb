{
 "cells": [
  {
   "cell_type": "markdown",
   "metadata": {},
   "source": [
    "I'm having a look at how to optimise mashed shuffling (for magic reasons!)"
   ]
  },
  {
   "cell_type": "code",
   "execution_count": 1,
   "metadata": {},
   "outputs": [],
   "source": [
    "%matplotlib inline\n",
    "\n",
    "import os\n",
    "\n",
    "import random\n",
    "import pickle\n",
    "\n",
    "import json\n",
    "\n",
    "import numpy as np\n",
    "from scipy.stats import multivariate_normal as multinomial\n",
    "from scipy.stats import rv_discrete\n",
    "from scipy.stats import norm\n",
    "\n",
    "import pandas as pd\n",
    "\n",
    "from matplotlib import pyplot\n",
    "import seaborn\n",
    "\n",
    "from mtgsdk import Card"
   ]
  },
  {
   "cell_type": "markdown",
   "metadata": {},
   "source": [
    "A function to return card names from the mtgsdk."
   ]
  },
  {
   "cell_type": "code",
   "execution_count": 2,
   "metadata": {},
   "outputs": [],
   "source": [
    "def get_card(card_name):\n",
    "    print(f'Retrieving: {card_name.title()}.')\n",
    "    card = Card.where(name=card_name).all()[0]\n",
    "    print(f'{card_name.title()} retrieved!\\n')\n",
    "    \n",
    "    return card"
   ]
  },
  {
   "cell_type": "markdown",
   "metadata": {},
   "source": [
    "A rifle shuffle function.\n",
    "TODO : make this work for an arbitrary left/right hand drop"
   ]
  },
  {
   "cell_type": "code",
   "execution_count": 3,
   "metadata": {},
   "outputs": [],
   "source": [
    "def rifle_shuffle(deck_list):\n",
    "    \n",
    "    pile = []\n",
    "    \n",
    "    a = [a for a in range(28,33)]\n",
    "    split = random.choices(a)[0]\n",
    "    \n",
    "    d = [a for a in range(1,2)]\n",
    "    \n",
    "    half1 = deck_list[:split]\n",
    "    half2 = deck_list[split:]\n",
    "    \n",
    "    while (half1 and half2):\n",
    "        half1_drop_number = random.choices(d)[0]\n",
    "        half2_drop_number = random.choices(d)[0]\n",
    "        pile = pile + half1[-half1_drop_number:] + half2[-half2_drop_number:]\n",
    "        half1 = half1[:-half1_drop_number]\n",
    "        half2 = half2[:-half2_drop_number]\n",
    "        \n",
    "    if half1:\n",
    "        pile = half1 + pile\n",
    "        \n",
    "    if half2:\n",
    "        pile = half2 + pile\n",
    "    \n",
    "    return pile"
   ]
  },
  {
   "cell_type": "markdown",
   "metadata": {},
   "source": [
    "Overhand shuffling algorithm."
   ]
  },
  {
   "cell_type": "code",
   "execution_count": 4,
   "metadata": {},
   "outputs": [],
   "source": [
    "def overhand_shuffle(deck_list):\n",
    "    a = [x for x in range(100)]\n",
    "    \n",
    "    pdf = multinomial.pdf(a, mean=7, cov=6)\n",
    "    norm_pdf = [(val/sum(pdf)) for val in pdf]\n",
    "        \n",
    "    right_hand = deck_list[:]\n",
    "    left_hand = []\n",
    "    while len(right_hand) > 7:\n",
    "        overhand_dist = rv_discrete(a=1, b=len(right_hand), values=(a,norm_pdf))\n",
    "        drop = overhand_dist.rvs(size=1)[0]\n",
    "        left_hand = right_hand[:drop] + left_hand\n",
    "        right_hand = right_hand[drop:]\n",
    "    left_hand = right_hand + left_hand\n",
    "    right_hand = []\n",
    "    \n",
    "    return left_hand"
   ]
  },
  {
   "cell_type": "markdown",
   "metadata": {},
   "source": [
    "Function to combine different shuffle types, and examine the hand retrieved from this process."
   ]
  },
  {
   "cell_type": "code",
   "execution_count": 5,
   "metadata": {},
   "outputs": [],
   "source": [
    "def create_hand(deck):\n",
    "    \n",
    "    hand = [item for item in deck[:7]]\n",
    "\n",
    "    df = make_dataframe(hand)\n",
    "    \n",
    "    hand_types = list(df['type'])\n",
    "        \n",
    "    hand_cards = list(df['name'])\n",
    "                \n",
    "    hand_qualities = []\n",
    "    \n",
    "    for item in list(df['quality']):\n",
    "        if isinstance(item, str):\n",
    "            hand_qualities.append([item])\n",
    "        else:\n",
    "            hand_qualities.append(item)\n",
    "            \n",
    "    hand_qualities = set(flatten_list(hand_qualities))\n",
    "    \n",
    "    return hand, hand_types, hand_cards, hand_qualities"
   ]
  },
  {
   "cell_type": "code",
   "execution_count": 6,
   "metadata": {},
   "outputs": [],
   "source": [
    "def make_dataframe(deck, parameters=['name', 'mana_cost', \n",
    "                                     'cmc', 'quality', 'type']):\n",
    "    \n",
    "    keys = []\n",
    "    values = []\n",
    "\n",
    "    data = []\n",
    "\n",
    "    for card in deck:\n",
    "        values = []\n",
    "\n",
    "        for item in parameters:\n",
    "            values.append(getattr(card, item))\n",
    "\n",
    "        data.append(values)\n",
    "\n",
    "    df = pd.DataFrame(data, columns=parameters)\n",
    "    \n",
    "    return df"
   ]
  },
  {
   "cell_type": "code",
   "execution_count": 7,
   "metadata": {},
   "outputs": [],
   "source": [
    "def shuffle_iterator(deck, search_criteria, iterations=1000,\n",
    "            overhand_interval=2):\n",
    "    \n",
    "    stats = []\n",
    "\n",
    "    for i in range(iterations):\n",
    "        deck = list(random.sample(deck_list, len(deck_list)))\n",
    "        shuffles = 0\n",
    "        overhand_shuffles = False\n",
    "        \n",
    "        hand, hand_types, hand_cards, hand_qualities = create_hand(deck)\n",
    "        \n",
    "        while not (search_criteria['quality'].issubset(hand_qualities)\n",
    "                   and ((hand_types.count('Basic Land — Swamp') == 2) or\n",
    "                        ((hand_cards.count('Urborg, Tomb of Yawgmoth') == 1) and\n",
    "                         (hand_types.count('Land') == 2)))):\n",
    "            \n",
    "            deck = rifle_shuffle(deck)\n",
    "            \n",
    "            hand, hand_types, hand_cards, hand_qualities = create_hand(deck)\n",
    "        \n",
    "            shuffles = shuffles + 1\n",
    "            \n",
    "            if (shuffles % overhand_interval) == 0:\n",
    "                overhand_shuffles = True\n",
    "            else:\n",
    "                overhand_shuffles = False\n",
    "\n",
    "        stats.append({'shuffles': shuffles, 'hand': hand})\n",
    "\n",
    "    return stats"
   ]
  },
  {
   "cell_type": "code",
   "execution_count": 8,
   "metadata": {},
   "outputs": [],
   "source": [
    "def flatten_list(list_of_lists):\n",
    "    flat_list = [item for sublist in list_of_lists for item in sublist]\n",
    "    \n",
    "    return flat_list"
   ]
  },
  {
   "cell_type": "code",
   "execution_count": 9,
   "metadata": {},
   "outputs": [],
   "source": [
    "def make_list(item):\n",
    "    if not isinstance(item, list):\n",
    "        item = [item]\n",
    "    \n",
    "    return item"
   ]
  },
  {
   "cell_type": "code",
   "execution_count": 10,
   "metadata": {},
   "outputs": [],
   "source": [
    "deck_json = 'deck.json'\n",
    "deck_pickle = 'deck.pkl'\n",
    "\n",
    "if os.path.isfile(deck_pickle):\n",
    "    with open(deck_pickle, 'rb') as f:\n",
    "        deck_list = pickle.load(f)\n",
    "else:\n",
    "    with open(deck_json, 'rb') as f:\n",
    "        card_list = json.load(f)\n",
    "\n",
    "    cards = {}\n",
    "\n",
    "    for i in card_list.keys():\n",
    "        name = card_list[i]['name']\n",
    "        quantity = card_list[i]['quantity']\n",
    "        quality = card_list[i]['quality']\n",
    "        card = get_card(name)\n",
    "        card.quality = quality\n",
    "        cards[name] = [card, quantity]\n",
    "\n",
    "    deck_list = []\n",
    "\n",
    "    for key in cards.keys():\n",
    "        for i in range(0,cards[key][1]):\n",
    "            deck_list.append(cards[key][0])\n",
    "    with open('deck.pkl', 'wb') as f:\n",
    "        pickle.dump(deck_list, f)"
   ]
  },
  {
   "cell_type": "code",
   "execution_count": 11,
   "metadata": {},
   "outputs": [],
   "source": [
    "deck = list(random.sample(deck_list, len(deck_list)))\n",
    "\n",
    "search_terms = {'quality': {'targetted discard', \n",
    "                            'win condition',\n",
    "                            'recurring'}}\n",
    "\n",
    "stats = shuffle_iterator(deck, search_terms)"
   ]
  },
  {
   "cell_type": "code",
   "execution_count": 12,
   "metadata": {},
   "outputs": [],
   "source": [
    "number_of_shuffles = [stat['shuffles'] for stat in stats]"
   ]
  },
  {
   "cell_type": "code",
   "execution_count": 13,
   "metadata": {},
   "outputs": [
    {
     "name": "stdout",
     "output_type": "stream",
     "text": [
      "Modal number of shuffles is: 4\n",
      "Average number of shuffles is: 31.655\n"
     ]
    },
    {
     "data": {
      "text/plain": [
       "<seaborn.axisgrid.FacetGrid at 0xa6a2dbcc>"
      ]
     },
     "execution_count": 13,
     "metadata": {},
     "output_type": "execute_result"
    },
    {
     "data": {
      "image/png": "[encoded data removed]",
      "text/plain": [
       "<matplotlib.figure.Figure at 0xa7ade92c>"
      ]
     },
     "metadata": {},
     "output_type": "display_data"
    },
    {
     "data": {
      "image/png": "[encoded data removed]",
      "text/plain": [
       "<matplotlib.figure.Figure at 0xa6a2d9cc>"
      ]
     },
     "metadata": {},
     "output_type": "display_data"
    }
   ],
   "source": [
    "print(f'Modal number of shuffles is: {max(set(number_of_shuffles), key=number_of_shuffles.count)}')\n",
    "print(f'Average number of shuffles is: {sum(number_of_shuffles)/len(number_of_shuffles)}')\n",
    "\n",
    "dist = {x:number_of_shuffles.count(x) for x in number_of_shuffles}\n",
    "\n",
    "scatter_keys = []\n",
    "scatter_values = []\n",
    "\n",
    "for key, value in dist.items():\n",
    "    scatter_keys.append(key)\n",
    "    scatter_values.append(value)\n",
    "\n",
    "scatter_data = pd.DataFrame({'shuffles': scatter_keys,\n",
    "                             'frequency': scatter_values})\n",
    "    \n",
    "\n",
    "a4_dims = (11.7, 8.27)\n",
    "fig, ax = pyplot.subplots(figsize=a4_dims)\n",
    "\n",
    "seaborn.distplot(number_of_shuffles, ax=ax)\n",
    "seaborn.lmplot('shuffles', 'frequency', scatter_data, fit_reg=False, size=10)"
   ]
  },
  {
   "cell_type": "code",
   "execution_count": 14,
   "metadata": {},
   "outputs": [],
   "source": [
    "total = 0\n",
    "cumulative = []\n",
    "\n",
    "keys = dist.keys()\n",
    "keys = sorted(keys)\n",
    "\n",
    "for key in keys:\n",
    "    total = total + int(dist[key])\n",
    "    cumulative.append(total)"
   ]
  },
  {
   "cell_type": "code",
   "execution_count": 15,
   "metadata": {},
   "outputs": [
    {
     "name": "stdout",
     "output_type": "stream",
     "text": [
      "0 3.0\n",
      "1 5.3\n",
      "2 8.8\n",
      "3 11.3\n",
      "4 14.9\n",
      "5 17.9\n",
      "6 20.5\n",
      "7 22.7\n",
      "8 24.3\n",
      "9 26.5\n",
      "10 28.8\n",
      "11 31.2\n",
      "12 33.9\n",
      "13 37.4\n",
      "14 39.9\n",
      "15 41.9\n",
      "16 43.5\n",
      "17 45.7\n",
      "18 47.1\n",
      "19 48.3\n",
      "20 50.0\n",
      "21 51.3\n",
      "22 52.4\n",
      "23 53.4\n",
      "24 54.6\n",
      "25 56.3\n",
      "26 57.9\n",
      "27 59.1\n",
      "28 60.4\n",
      "29 61.9\n",
      "30 63.5\n",
      "31 64.6\n",
      "32 65.6\n",
      "33 67.5\n",
      "34 68.5\n",
      "35 70.0\n",
      "36 70.9\n",
      "37 71.4\n",
      "38 71.7\n",
      "39 72.6\n",
      "40 73.4\n",
      "41 74.5\n",
      "42 75.2\n",
      "43 76.1\n",
      "44 77.3\n",
      "45 78.2\n",
      "46 79.2\n",
      "47 79.5\n",
      "48 79.8\n",
      "49 80.4\n",
      "50 81.2\n",
      "51 81.9\n",
      "52 82.4\n",
      "53 83.2\n",
      "54 83.5\n",
      "55 84.0\n",
      "56 84.3\n",
      "57 84.9\n",
      "58 85.1\n",
      "59 85.5\n",
      "60 85.6\n",
      "61 85.9\n",
      "62 86.1\n",
      "63 86.5\n",
      "64 86.8\n",
      "65 87.0\n",
      "66 87.5\n",
      "67 87.7\n",
      "68 87.8\n",
      "69 88.1\n",
      "70 88.3\n",
      "71 88.7\n",
      "72 88.8\n",
      "73 89.3\n",
      "74 89.7\n",
      "75 89.9\n",
      "76 90.2\n",
      "77 90.6\n",
      "78 91.0\n",
      "79 91.5\n",
      "80 92.0\n",
      "81 92.2\n",
      "82 92.3\n",
      "83 92.4\n",
      "84 92.5\n",
      "85 92.8\n",
      "86 92.9\n",
      "87 93.0\n",
      "88 93.3\n",
      "89 93.6\n",
      "90 93.9\n",
      "91 94.1\n",
      "92 94.2\n",
      "93 94.3\n",
      "94 94.5\n",
      "95 94.7\n",
      "96 95.1\n",
      "97 95.4\n",
      "98 95.5\n",
      "99 95.6\n",
      "100 95.7\n",
      "101 95.9\n",
      "102 96.0\n",
      "103 96.1\n",
      "104 96.2\n",
      "105 96.3\n",
      "106 96.5\n",
      "107 96.6\n",
      "108 96.9\n",
      "109 97.1\n",
      "110 97.2\n",
      "111 97.3\n",
      "112 97.4\n",
      "113 97.5\n",
      "114 97.6\n",
      "115 97.9\n",
      "116 98.1\n",
      "117 98.2\n",
      "118 98.3\n",
      "119 98.4\n",
      "120 98.5\n",
      "121 98.7\n",
      "122 98.8\n",
      "123 98.9\n",
      "124 99.0\n",
      "125 99.1\n",
      "126 99.2\n",
      "127 99.3\n",
      "128 99.4\n",
      "129 99.5\n",
      "130 99.6\n",
      "131 99.7\n",
      "132 99.8\n",
      "133 99.9\n",
      "134 100.0\n"
     ]
    }
   ],
   "source": [
    "for i, item in enumerate(cumulative):\n",
    "    print(i, 100 * float(item)/float(total))"
   ]
  }
 ],
 "metadata": {
  "kernelspec": {
   "display_name": "Python 3",
   "language": "python",
   "name": "python3"
  },
  "language_info": {
   "codemirror_mode": {
    "name": "ipython",
    "version": 3
   },
   "file_extension": ".py",
   "mimetype": "text/x-python",
   "name": "python",
   "nbconvert_exporter": "python",
   "pygments_lexer": "ipython3",
   "version": "3.6.1"
  }
 },
 "nbformat": 4,
 "nbformat_minor": 2
}
