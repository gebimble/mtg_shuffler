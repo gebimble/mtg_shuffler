{
 "cells": [
  {
   "cell_type": "markdown",
   "metadata": {},
   "source": [
    "I'm having a look at how to optimise mashed shuffling (for magic reasons!)"
   ]
  },
  {
   "cell_type": "code",
   "execution_count": 1,
   "metadata": {},
   "outputs": [],
   "source": [
    "%matplotlib inline\n",
    "\n",
    "import os\n",
    "\n",
    "import random\n",
    "import pickle\n",
    "\n",
    "import json\n",
    "\n",
    "import numpy as np\n",
    "from scipy.stats import multivariate_normal as multinomial\n",
    "from scipy.stats import rv_discrete\n",
    "from scipy.stats import norm\n",
    "\n",
    "import pandas as pd\n",
    "\n",
    "from matplotlib import pyplot\n",
    "import seaborn\n",
    "\n",
    "from mtgsdk import Card"
   ]
  },
  {
   "cell_type": "markdown",
   "metadata": {},
   "source": [
    "A function to return card names from the mtgsdk."
   ]
  },
  {
   "cell_type": "code",
   "execution_count": 2,
   "metadata": {},
   "outputs": [],
   "source": [
    "def get_card(card_name):\n",
    "    print(f'Retrieving: {card_name.title()}.')\n",
    "    card = Card.where(name=card_name).all()[0]\n",
    "    print(f'{card_name.title()} retrieved!\\n')\n",
    "    \n",
    "    return card"
   ]
  },
  {
   "cell_type": "markdown",
   "metadata": {},
   "source": [
    "A rifle shuffle function.\n",
    "TODO : make this work for an arbitrary left/right hand drop"
   ]
  },
  {
   "cell_type": "code",
   "execution_count": 3,
   "metadata": {},
   "outputs": [],
   "source": [
    "def rifle_shuffle(deck_list):\n",
    "    \n",
    "    pile = []\n",
    "    \n",
    "    a = [a for a in range(28,33)]\n",
    "    split = random.choices(a)[0]\n",
    "    \n",
    "    d = [a for a in range(1,2)]\n",
    "    \n",
    "    half1 = deck_list[:split]\n",
    "    half2 = deck_list[split:]\n",
    "    \n",
    "    while (half1 and half2):\n",
    "        half1_drop_number = random.choices(d)[0]\n",
    "        half2_drop_number = random.choices(d)[0]\n",
    "        pile = pile + half1[-half1_drop_number:] + half2[-half2_drop_number:]\n",
    "        half1 = half1[:-half1_drop_number]\n",
    "        half2 = half2[:-half2_drop_number]\n",
    "        \n",
    "    if half1:\n",
    "        pile = half1 + pile\n",
    "        \n",
    "    if half2:\n",
    "        pile = half2 + pile\n",
    "    \n",
    "    return pile"
   ]
  },
  {
   "cell_type": "markdown",
   "metadata": {},
   "source": [
    "Overhand shuffling algorithm."
   ]
  },
  {
   "cell_type": "code",
   "execution_count": 4,
   "metadata": {},
   "outputs": [],
   "source": [
    "def overhand_shuffle(deck_list):\n",
    "    a = [x for x in range(100)]\n",
    "    \n",
    "    pdf = multinomial.pdf(a, mean=7, cov=6)\n",
    "    norm_pdf = [(val/sum(pdf)) for val in pdf]\n",
    "        \n",
    "    right_hand = deck_list[:]\n",
    "    left_hand = []\n",
    "    while len(right_hand) > 7:\n",
    "        overhand_dist = rv_discrete(a=1, b=len(right_hand), values=(a,norm_pdf))\n",
    "        drop = overhand_dist.rvs(size=1)[0]\n",
    "        left_hand = right_hand[:drop] + left_hand\n",
    "        right_hand = right_hand[drop:]\n",
    "    left_hand = right_hand + left_hand\n",
    "    right_hand = []\n",
    "    \n",
    "    return left_hand"
   ]
  },
  {
   "cell_type": "markdown",
   "metadata": {},
   "source": [
    "Function to combine different shuffle types, and examine the hand retrieved from this process."
   ]
  },
  {
   "cell_type": "code",
   "execution_count": 5,
   "metadata": {},
   "outputs": [],
   "source": [
    "def create_hand(deck):\n",
    "    \n",
    "    hand = [item for item in deck[:7]]\n",
    "\n",
    "    df = make_dataframe(hand)\n",
    "    \n",
    "    hand_types = list(df['type'])\n",
    "        \n",
    "    hand_cards = list(df['name'])\n",
    "                \n",
    "    hand_qualities = []\n",
    "    \n",
    "    for item in list(df['quality']):\n",
    "        if isinstance(item, str):\n",
    "            hand_qualities.append([item])\n",
    "        else:\n",
    "            hand_qualities.append(item)\n",
    "            \n",
    "    hand_qualities = set(flatten_list(hand_qualities))\n",
    "    \n",
    "    return hand, hand_types, hand_cards, hand_qualities"
   ]
  },
  {
   "cell_type": "code",
   "execution_count": 6,
   "metadata": {},
   "outputs": [],
   "source": [
    "def make_dataframe(deck, parameters=['name', 'mana_cost', \n",
    "                                     'cmc', 'quality', 'type']):\n",
    "    \n",
    "    keys = []\n",
    "    values = []\n",
    "\n",
    "    data = []\n",
    "\n",
    "    for card in deck:\n",
    "        values = []\n",
    "\n",
    "        for item in parameters:\n",
    "            values.append(getattr(card, item))\n",
    "\n",
    "        data.append(values)\n",
    "\n",
    "    df = pd.DataFrame(data, columns=parameters)\n",
    "    \n",
    "    return df"
   ]
  },
  {
   "cell_type": "code",
   "execution_count": 39,
   "metadata": {},
   "outputs": [],
   "source": [
    "def shuffle_iterator(deck, search_criteria, iterations=1000,\n",
    "            overhand_interval=2, basic_shuffle=False):\n",
    "    \n",
    "    stats = []\n",
    "    \n",
    "    starting_deck = list(deck)\n",
    "\n",
    "    for i in range(iterations):\n",
    "        \n",
    "        if basic_shuffle:\n",
    "            for i in range(5):\n",
    "                deck = rifle_shuffle(starting_deck)\n",
    "                deck = rifle_shuffle(deck)\n",
    "                deck = overhand_shuffle(deck)\n",
    "        else:\n",
    "            deck = list(random.sample(deck, len(deck)))\n",
    "            \n",
    "        \n",
    "        shuffles = 0\n",
    "        overhand_shuffles = False\n",
    "        \n",
    "        hand, hand_types, hand_cards, hand_qualities = create_hand(deck)\n",
    "        \n",
    "        while not (search_criteria['quality'].issubset(hand_qualities)\n",
    "                   and ((hand_types.count('Basic Land — Swamp') == 2) or\n",
    "                        ((hand_cards.count('Urborg, Tomb of Yawgmoth') == 1) and\n",
    "                         (hand_types.count('Land') == 2)))):\n",
    "            \n",
    "            deck = rifle_shuffle(deck)\n",
    "            \n",
    "            hand, hand_types, hand_cards, hand_qualities = create_hand(deck)\n",
    "        \n",
    "            shuffles = shuffles + 1\n",
    "            \n",
    "            if (shuffles % overhand_interval) == 0:\n",
    "                deck = overhand_shuffle(deck)\n",
    "\n",
    "        stats.append({'shuffles': shuffles, 'hand': hand})\n",
    "\n",
    "    return stats"
   ]
  },
  {
   "cell_type": "code",
   "execution_count": 40,
   "metadata": {},
   "outputs": [],
   "source": [
    "def flatten_list(list_of_lists):\n",
    "    flat_list = [item for sublist in list_of_lists for item in sublist]\n",
    "    \n",
    "    return flat_list"
   ]
  },
  {
   "cell_type": "code",
   "execution_count": 41,
   "metadata": {},
   "outputs": [],
   "source": [
    "def make_list(item):\n",
    "    if not isinstance(item, list):\n",
    "        item = [item]\n",
    "    \n",
    "    return item"
   ]
  },
  {
   "cell_type": "code",
   "execution_count": 42,
   "metadata": {},
   "outputs": [],
   "source": [
    "deck_json = 'deck.json'\n",
    "deck_pickle = 'deck.pkl'\n",
    "\n",
    "if os.path.isfile(deck_pickle):\n",
    "    with open(deck_pickle, 'rb') as f:\n",
    "        deck_list = pickle.load(f)\n",
    "else:\n",
    "    with open(deck_json, 'rb') as f:\n",
    "        card_list = json.load(f)\n",
    "\n",
    "    cards = {}\n",
    "\n",
    "    for i in card_list.keys():\n",
    "        name = card_list[i]['name']\n",
    "        quantity = card_list[i]['quantity']\n",
    "        quality = card_list[i]['quality']\n",
    "        card = get_card(name)\n",
    "        card.quality = quality\n",
    "        cards[name] = [card, quantity]\n",
    "\n",
    "    deck_list = []\n",
    "\n",
    "    for key in cards.keys():\n",
    "        for i in range(0,cards[key][1]):\n",
    "            deck_list.append(cards[key][0])\n",
    "    with open('deck.pkl', 'wb') as f:\n",
    "        pickle.dump(deck_list, f)"
   ]
  },
  {
   "cell_type": "code",
   "execution_count": 43,
   "metadata": {},
   "outputs": [],
   "source": [
    "search_terms = {'quality': {'targetted discard', \n",
    "                            'win condition',\n",
    "                            'recurring'}}"
   ]
  },
  {
   "cell_type": "code",
   "execution_count": 55,
   "metadata": {},
   "outputs": [],
   "source": [
    "deck_random = list(random.sample(deck_list, len(deck_list)))\n",
    "\n",
    "stats_random = shuffle_iterator(deck_random, search_terms, iterations=1000)"
   ]
  },
  {
   "cell_type": "code",
   "execution_count": 56,
   "metadata": {},
   "outputs": [],
   "source": [
    "stats_unshuffled = shuffle_iterator(list(deck_list), search_terms, iterations=1000, basic_shuffle=True)"
   ]
  },
  {
   "cell_type": "code",
   "execution_count": 57,
   "metadata": {},
   "outputs": [],
   "source": [
    "number_of_shuffles_random = [stat['shuffles'] for stat in stats_random]\n",
    "number_of_shuffles_unshuffled = [stat['shuffles'] for stat in stats_unshuffled]"
   ]
  },
  {
   "cell_type": "code",
   "execution_count": 58,
   "metadata": {},
   "outputs": [
    {
     "name": "stdout",
     "output_type": "stream",
     "text": [
      "Modal number of shuffles is: 1\n",
      "Average number of shuffles is: 30.969\n"
     ]
    },
    {
     "data": {
      "image/png": "[encoded data removed]",
      "text/plain": [
       "<matplotlib.figure.Figure at 0xa6092c4c>"
      ]
     },
     "metadata": {},
     "output_type": "display_data"
    }
   ],
   "source": [
    "print(f'Modal number of shuffles is: {max(set(number_of_shuffles_random), key=number_of_shuffles_random.count)}')\n",
    "print(f'Average number of shuffles is: {sum(number_of_shuffles_random)/len(number_of_shuffles_random)}')\n",
    "\n",
    "q = [number_of_shuffles_random, number_of_shuffles_unshuffled]\n",
    "\n",
    "b = len(q)\n",
    "\n",
    "dist = {}\n",
    "\n",
    "for a in range(b):\n",
    "    dist[str(a)] = {x:q[a].count(x) for x in q[a]}\n",
    "\n",
    "a4_dims = (11.7, 8.27)\n",
    "fig, ax = pyplot.subplots(figsize=a4_dims)\n",
    "\n",
    "for a in [number_of_shuffles_random, number_of_shuffles_unshuffled]:\n",
    "    seaborn.distplot(a, ax=ax, kde=False)"
   ]
  },
  {
   "cell_type": "code",
   "execution_count": 71,
   "metadata": {},
   "outputs": [
    {
     "data": {
      "text/plain": [
       "<seaborn.axisgrid.FacetGrid at 0xa528ddcc>"
      ]
     },
     "execution_count": 71,
     "metadata": {},
     "output_type": "execute_result"
    },
    {
     "data": {
      "image/png": "[encoded data removed]",
      "text/plain": [
       "<matplotlib.figure.Figure at 0xa528d22c>"
      ]
     },
     "metadata": {},
     "output_type": "display_data"
    }
   ],
   "source": [
    "highest_count = max([max(dist[key].keys()) for key in dist.keys()])\n",
    "\n",
    "data = []\n",
    "\n",
    "for a in range(b):\n",
    "    value = []\n",
    "    index = []\n",
    "    for i in range(highest_count + 1):\n",
    "        index.append(i)\n",
    "        if i in set(dist[str(a)].keys()):\n",
    "            value.append(dist[str(a)][i])\n",
    "        else:\n",
    "            value.append(None)\n",
    "    \n",
    "    data.append(value)\n",
    "\n",
    "test = pd.DataFrame(data, index=['random', 'set']).transpose()\n",
    "\n",
    "test.reset_index(inplace=True)\n",
    "\n",
    "test_melt = test.melt('index', var_name='cols', value_name='vals')\n",
    "\n",
    "g = seaborn.lmplot(x='index', y='vals', hue='cols', \n",
    "                   data=test_melt, fit_reg=None,\n",
    "                   size=10)\n",
    "\n",
    "g.set(xticks=test['index'][0::20])"
   ]
  },
  {
   "cell_type": "code",
   "execution_count": 98,
   "metadata": {},
   "outputs": [],
   "source": [
    "for a in ['random', 'set']:\n",
    "    test[a + ' cumulative'] = pd.Series([sum(filter(None, test[a][:i])) for i in list(test.index)])"
   ]
  }
 ],
 "metadata": {
  "kernelspec": {
   "display_name": "Python 3",
   "language": "python",
   "name": "python3"
  },
  "language_info": {
   "codemirror_mode": {
    "name": "ipython",
    "version": 3
   },
   "file_extension": ".py",
   "mimetype": "text/x-python",
   "name": "python",
   "nbconvert_exporter": "python",
   "pygments_lexer": "ipython3",
   "version": "3.6.1"
  }
 },
 "nbformat": 4,
 "nbformat_minor": 2
}
