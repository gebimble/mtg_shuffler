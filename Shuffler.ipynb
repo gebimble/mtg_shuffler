{
 "cells": [
  {
   "cell_type": "markdown",
   "metadata": {},
   "source": [
    "# Shufler\n",
    "\n",
    "I'm attempting to see if there's a correlation between the number of times you have to shuffle a deck of Magic: The Gathering cards, and the qualities of the opening hand you get."
   ]
  },
  {
   "cell_type": "code",
   "execution_count": 22,
   "metadata": {},
   "outputs": [],
   "source": [
    "%matplotlib inline\n",
    "\n",
    "import os\n",
    "\n",
    "import random\n",
    "import pickle\n",
    "\n",
    "import json\n",
    "\n",
    "import numpy as np\n",
    "from scipy.stats import multivariate_normal as multinomial\n",
    "from scipy.stats import rv_discrete\n",
    "from scipy.stats import norm\n",
    "\n",
    "import pandas as pd\n",
    "\n",
    "from matplotlib import pyplot\n",
    "import seaborn\n",
    "\n",
    "from jupyterthemes import jtplot\n",
    "\n",
    "from mtgsdk import Card\n",
    "\n",
    "jtplot.style('solarizedd')"
   ]
  },
  {
   "cell_type": "markdown",
   "metadata": {},
   "source": [
    "get_card\n",
    "--------\n",
    "\n",
    "A function to return card names from the mtgsdk."
   ]
  },
  {
   "cell_type": "code",
   "execution_count": 2,
   "metadata": {},
   "outputs": [],
   "source": [
    "def get_card(card_name):\n",
    "    '''A function to return card names form the mtgsdk\n",
    "    \n",
    "    Arguments:\n",
    "        card_name - a string containing the name of a card (in any arrangement of case)\n",
    "        \n",
    "    Returns:\n",
    "        card - mtgsdk object containing card information\n",
    "    \n",
    "    Excepts:\n",
    "        None'''\n",
    "    \n",
    "    print(f'Retrieving: {card_name.title()}.')\n",
    "    card = Card.where(name=card_name).all()[0]\n",
    "    print(f'{card_name.title()} retrieved!\\n')\n",
    "    \n",
    "    return card"
   ]
  },
  {
   "cell_type": "markdown",
   "metadata": {},
   "source": [
    "rifle_shuffle\n",
    "-------------\n",
    "\n",
    "A rifle shuffle function.\n",
    "\n",
    "Very simply:\n",
    "\n",
    "1. Splits the deck into two (potentially uneven) sub-piles.\n",
    "2. While there are still cards in each pile, alternately drop a random number of cards between 1 and 2 from the bottom of each sub-pile onto the pile.\n",
    "3. If you run out of cards in either one of the sub-piles, drop the remainder of the other sub-pile on top.\n",
    "4. Returns the pile to whatever called the function."
   ]
  },
  {
   "cell_type": "code",
   "execution_count": 3,
   "metadata": {},
   "outputs": [],
   "source": [
    "def rifle_shuffle(deck_list):\n",
    "    '''A rifle shuffle function.\n",
    "    \n",
    "    Arguments:\n",
    "        deck_list - a list, but is expected to be something that represents a deck of cards.\n",
    "        \n",
    "    Returns:\n",
    "        pile - a list: the newly shuffled deck.\n",
    "        \n",
    "    Excepts:\n",
    "        None'''\n",
    "    pile = []\n",
    "    \n",
    "    a = [a for a in range(28,33)]\n",
    "    split = random.choices(a)[0]\n",
    "    \n",
    "    half1 = deck_list[:split]\n",
    "    half2 = deck_list[split:]\n",
    "    \n",
    "    d = [a for a in range(1,2)]\n",
    "    \n",
    "    while (half1 and half2):\n",
    "        half1_drop_number_of_cards = random.choices(d)[0]\n",
    "        half2_drop_number_of_cards = random.choices(d)[0]\n",
    "        pile = pile + half1[-half1_drop_number_of_cards:]\n",
    "               + half2[-half2_drop_number_of_cards:]\n",
    "        half1 = half1[:-half1_drop_number_of_cards]\n",
    "        half2 = half2[:-half2_drop_number_of_cards]\n",
    "        \n",
    "    if half1:\n",
    "        pile = half1 + pile\n",
    "        \n",
    "    if half2:\n",
    "        pile = half2 + pile\n",
    "    \n",
    "    return pile"
   ]
  },
  {
   "cell_type": "markdown",
   "metadata": {},
   "source": [
    "overhand_shuffle\n",
    "----------------\n",
    "\n",
    "Overhand shuffling algorithm.\n",
    "\n",
    "A bit more complex than the rifle shuffle, because the hand size varies so much, and not entirely randomly.\n",
    "\n",
    "1. Creates a probability density function (pdf) with a mean of 7 and a covariance of 6 (i.e. it's likely that you'll have a 'drop' packet that usually has 7 cards in it, but that could vary between 1 and about 13 - it's quite arbitrary, I know, but it feels about right)\n",
    "2. While there are cards in the original deck, create a discrete random variable distribution based on that pdf, and use that to determine the size of the drop.\n",
    "3. Take a packet the size of the drop and put them on top of the deck that's forming.\n",
    "4. Keep doing this until you have 7 or fewer cards in your original deck, then drop the remaining on top of the new deck.\n",
    "5. Return the new deck."
   ]
  },
  {
   "cell_type": "code",
   "execution_count": 4,
   "metadata": {},
   "outputs": [],
   "source": [
    "def overhand_shuffle(deck_list):\n",
    "    '''Overhand shuffling algorithm.\n",
    "    \n",
    "    Arguments:\n",
    "        deck_list - a list, but is expected to be something that represents a deck of cards.\n",
    "    \n",
    "    Returns:\n",
    "        left_hand - the reordered list.\n",
    "        \n",
    "    Excepts:\n",
    "        None'''\n",
    "    a = [x for x in range(100)]\n",
    "    \n",
    "    pdf = multinomial.pdf(a, mean=7, cov=6)\n",
    "    norm_pdf = [(val/sum(pdf)) for val in pdf]\n",
    "        \n",
    "    right_hand = deck_list[:]\n",
    "    left_hand = []\n",
    "    \n",
    "    while len(right_hand) > 7:\n",
    "        overhand_dist = rv_discrete(a=1, b=len(right_hand), values=(a,norm_pdf))\n",
    "        drop = overhand_dist.rvs(size=1)[0]\n",
    "        left_hand = right_hand[:drop] + left_hand\n",
    "        right_hand = right_hand[drop:]\n",
    "    left_hand = right_hand + left_hand\n",
    "    right_hand = []\n",
    "    \n",
    "    return left_hand"
   ]
  },
  {
   "cell_type": "markdown",
   "metadata": {},
   "source": [
    "pile_shuffler\n",
    "-------------\n",
    "\n",
    "Pile shuffle algorithm.\n",
    "\n",
    "Another super simple shuffler:\n",
    "\n",
    "1. Makes a dictionary containing lists of cards from the supplied deck. These decks contain each 'pile'th card, starting with a list beginning with the 1st card, ending with a list beginning with the 'pile'th card.\n",
    "2. Each of these lists gets reversed to mimic the 'take from the top' technique of pile shuffling.\n",
    "3. These small lists are concatenated to produce a deck.\n",
    "4. Return the deck."
   ]
  },
  {
   "cell_type": "code",
   "execution_count": 5,
   "metadata": {},
   "outputs": [],
   "source": [
    "def pile_shuffle(deck_list, piles=6):\n",
    "    '''A pile shuffling algorithm.\n",
    "    \n",
    "    Arguments:\n",
    "        deck_list - a list, but is expected to be something that represents a deck of cards.\n",
    "        piles - the number of piles that the list will be separated into during the shuffle.\n",
    "    \n",
    "    Returns:\n",
    "        deck - the shuffled deck.\n",
    "        \n",
    "    Excepts:\n",
    "        None'''\n",
    "    \n",
    "    temp = {}\n",
    "    \n",
    "    for i in range(piles):\n",
    "        temp[str(i)] = deck_list[i::piles]\n",
    "        temp[str(i)].reverse()\n",
    "        \n",
    "    keys = temp.keys()\n",
    "    \n",
    "    deck = []\n",
    "    \n",
    "    for key in keys:\n",
    "        deck = deck + temp[key]\n",
    "        \n",
    "    return deck"
   ]
  },
  {
   "cell_type": "markdown",
   "metadata": {},
   "source": [
    "create_hand\n",
    "-----------\n",
    "\n",
    "Retrieves the top 7 cards, making a dataframe out of them, and returning particular aspects of that dataframe. Perhaps not the cleanest way of doing things within this function, but slightly more readable when it comes to the main script."
   ]
  },
  {
   "cell_type": "code",
   "execution_count": 6,
   "metadata": {},
   "outputs": [],
   "source": [
    "def create_hand(deck):\n",
    "    '''Retrieves a \"hand\" from the deck, and acquires attributes from it.\n",
    "    \n",
    "    Arguments:\n",
    "        deck - a list, but is expected to be a representation of a deck of cards.\n",
    "        \n",
    "    Returns:\n",
    "        hand - a list of the top 7 items as is.\n",
    "        hand_types - the card types in hand\n",
    "        hand_cards - the card names in hand\n",
    "        hand_qualities - the qualities in hand\n",
    "    \n",
    "    Excepts:\n",
    "        None'''\n",
    "    \n",
    "    hand = [item for item in deck[:7]]\n",
    "\n",
    "    df = make_dataframe(hand)\n",
    "    \n",
    "    hand_types = list(df['type'])\n",
    "        \n",
    "    hand_cards = list(df['name'])\n",
    "                \n",
    "    hand_qualities = []\n",
    "    \n",
    "    for item in list(df['quality']):\n",
    "        if isinstance(item, str):\n",
    "            hand_qualities.append([item])\n",
    "        else:\n",
    "            hand_qualities.append(item)\n",
    "            \n",
    "    hand_qualities = set(flatten_list(hand_qualities))\n",
    "    \n",
    "    return hand, hand_types, hand_cards, hand_qualities"
   ]
  },
  {
   "cell_type": "markdown",
   "metadata": {},
   "source": [
    "make_dataframe\n",
    "--------------\n",
    "\n",
    "Takes a supplied list, and makes a dataframe out of it, returning that dataframe to the calling function."
   ]
  },
  {
   "cell_type": "code",
   "execution_count": 7,
   "metadata": {},
   "outputs": [],
   "source": [
    "def make_dataframe(deck, parameters=['name', 'mana_cost', 'cmc', 'quality', 'type']):\n",
    "    '''Takes a supplied list, and makes a dataframe out of it.\n",
    "    \n",
    "    Arguments:\n",
    "        deck - a list, but is expected to represent a deck of cards (or subsection thereof).\n",
    "        parameters - a list of strings, which should contain paramaters that can be retrieved\n",
    "                     from the objects in deck.\n",
    "    \n",
    "    Returns:\n",
    "        df - a dataframe composed of the cards and parameters supplied.\n",
    "        \n",
    "    Excepts:\n",
    "        None'''\n",
    "    keys = []\n",
    "    values = []\n",
    "\n",
    "    data = []\n",
    "\n",
    "    for card in deck:\n",
    "        values = []\n",
    "\n",
    "        for item in parameters:\n",
    "            values.append(getattr(card, item))\n",
    "\n",
    "        data.append(values)\n",
    "\n",
    "    df = pd.DataFrame(data, columns=parameters)\n",
    "    \n",
    "    return df"
   ]
  },
  {
   "cell_type": "markdown",
   "metadata": {},
   "source": [
    "shuffle_iterator\n",
    "----------------\n",
    "\n",
    "The meat of the program.\n",
    "\n",
    "Takes a deck, the search criteria, number of iterations, and some shuffle parameters, and then shuffles the deck and examines the hand you'd draw until the criteria are met."
   ]
  },
  {
   "cell_type": "code",
   "execution_count": 8,
   "metadata": {},
   "outputs": [],
   "source": [
    "def shuffle_iterator(deck, search_criteria, iterations=1000,\n",
    "            overhand_interval=2, basic_shuffle=False):\n",
    "    '''Iterates over a provided number of iterations, shuffling until the provided search\n",
    "    criteria have been found.\n",
    "    \n",
    "    Arguments:\n",
    "        deck - a list, of cards, preferrably\n",
    "        search_terms - a dictionary containing the search parameter as  key, and the\n",
    "                       values in that key are the parameter contents that we're\n",
    "                       interested in.\n",
    "        iterations - more like a sample size, really\n",
    "        overhand_interval - the number of times to do a rifle shuffle before performing\n",
    "                            an overhand shuffle\n",
    "        basic_shuffle - whether or not to perform a 'basic' shuffle of 5 multiples of\n",
    "                        (2 rifles shuffles and an overhand shuffle)\n",
    "        \n",
    "    Returns:\n",
    "        stats - a dictionary containing the number of shuffles required to meet the\n",
    "                criteria in each iteration and the hand in each case.\n",
    "    \n",
    "    Except:\n",
    "        None'''\n",
    "    \n",
    "    stats = []\n",
    "    \n",
    "    starting_deck = list(deck)\n",
    "\n",
    "    for i in range(iterations):\n",
    "        \n",
    "        if basic_shuffle:\n",
    "            for i in range(5):\n",
    "                deck = rifle_shuffle(starting_deck)\n",
    "                deck = rifle_shuffle(deck)\n",
    "                deck = overhand_shuffle(deck)\n",
    "        else:\n",
    "            deck = list(random.sample(deck, len(deck)))\n",
    "            \n",
    "        \n",
    "        shuffles = 0\n",
    "        overhand_shuffles = False\n",
    "        \n",
    "        hand, hand_types, hand_cards, hand_qualities = create_hand(deck)\n",
    "        \n",
    "        while not (search_criteria['quality'].issubset(hand_qualities)\n",
    "                   and ((hand_types.count('Basic Land — Swamp') == 2) or  #  this is for mana\n",
    "                        ((hand_cards.count('Urborg, Tomb of Yawgmoth') == 1) and\n",
    "                         (hand_types.count('Land') == 2)))):\n",
    "            \n",
    "            deck = rifle_shuffle(deck)\n",
    "            \n",
    "            hand, hand_types, hand_cards, hand_qualities = create_hand(deck)\n",
    "        \n",
    "            shuffles = shuffles + 1\n",
    "            \n",
    "            if (shuffles % overhand_interval) == 0:\n",
    "                deck = overhand_shuffle(deck)\n",
    "\n",
    "        stats.append({'shuffles': shuffles, 'hand': hand})\n",
    "        \n",
    "        deck = pile_shuffle(deck)\n",
    "        \n",
    "    return stats"
   ]
  },
  {
   "cell_type": "markdown",
   "metadata": {},
   "source": [
    "flatten_list\n",
    "------------\n",
    "\n",
    "Takes a list containing sublists and flattens it."
   ]
  },
  {
   "cell_type": "code",
   "execution_count": 9,
   "metadata": {},
   "outputs": [],
   "source": [
    "def flatten_list(list_of_lists):\n",
    "    '''Takes a list of lists and flattens it.\n",
    "    \n",
    "    Arguments:\n",
    "        list_of_lists - a list of lists.\n",
    "    \n",
    "    Returns:\n",
    "        flat_list - flattened list.\n",
    "        \n",
    "    Except:\n",
    "        None'''\n",
    "    flat_list = [item for sublist in list_of_lists for item in sublist]\n",
    "    \n",
    "    return flat_list"
   ]
  },
  {
   "cell_type": "markdown",
   "metadata": {},
   "source": [
    "make_list\n",
    "---------\n",
    "\n",
    "Takes an item and turns it into a list. For some reason."
   ]
  },
  {
   "cell_type": "code",
   "execution_count": 10,
   "metadata": {},
   "outputs": [],
   "source": [
    "def make_list(item):\n",
    "    '''Takes an item and turns it into a list. For some reason.\n",
    "    \n",
    "    Arguments:\n",
    "        item - int, float, string, whatever.\n",
    "    \n",
    "    Returns:\n",
    "        item - th'''\n",
    "    if not isinstance(item, list):\n",
    "        item = [item]\n",
    "    \n",
    "    return item"
   ]
  },
  {
   "cell_type": "code",
   "execution_count": 11,
   "metadata": {},
   "outputs": [],
   "source": [
    "deck_json = 'deck.json'\n",
    "deck_pickle = 'deck.pkl'\n",
    "\n",
    "if os.path.isfile(deck_pickle):\n",
    "    with open(deck_pickle, 'rb') as f:\n",
    "        deck_list = pickle.load(f)\n",
    "else:\n",
    "    with open(deck_json, 'rb') as f:\n",
    "        card_list = json.load(f)\n",
    "\n",
    "    cards = {}\n",
    "\n",
    "    for i in card_list.keys():\n",
    "        name = card_list[i]['name']\n",
    "        quantity = card_list[i]['quantity']\n",
    "        quality = card_list[i]['quality']\n",
    "        card = get_card(name)\n",
    "        card.quality = quality\n",
    "        cards[name] = [card, quantity]\n",
    "\n",
    "    deck_list = []\n",
    "\n",
    "    for key in cards.keys():\n",
    "        for i in range(0,cards[key][1]):\n",
    "            deck_list.append(cards[key][0])\n",
    "    with open('deck.pkl', 'wb') as f:\n",
    "        pickle.dump(deck_list, f)"
   ]
  },
  {
   "cell_type": "code",
   "execution_count": 12,
   "metadata": {},
   "outputs": [],
   "source": [
    "search_terms = {'quality': {'targetted discard', \n",
    "                            'win condition',\n",
    "                            'recurring'}}"
   ]
  },
  {
   "cell_type": "code",
   "execution_count": 13,
   "metadata": {},
   "outputs": [],
   "source": [
    "deck_random = list(random.sample(deck_list, len(deck_list)))\n",
    "\n",
    "stats_random = shuffle_iterator(deck_random, search_terms, iterations=1000)"
   ]
  },
  {
   "cell_type": "code",
   "execution_count": 14,
   "metadata": {},
   "outputs": [],
   "source": [
    "stats_unshuffled = shuffle_iterator(list(deck_list), search_terms, iterations=1000, basic_shuffle=True)"
   ]
  },
  {
   "cell_type": "code",
   "execution_count": 15,
   "metadata": {},
   "outputs": [],
   "source": [
    "number_of_shuffles_random = [stat['shuffles'] for stat in stats_random]\n",
    "number_of_shuffles_unshuffled = [stat['shuffles'] for stat in stats_unshuffled]"
   ]
  },
  {
   "cell_type": "code",
   "execution_count": 23,
   "metadata": {},
   "outputs": [
    {
     "name": "stdout",
     "output_type": "stream",
     "text": [
      "Modal number of shuffles is: 0\n",
      "Average number of shuffles is: 32.827\n"
     ]
    },
    {
     "data": {
      "image/png": "[encoded data removed]",
      "text/plain": [
       "<matplotlib.figure.Figure at 0xa682aaac>"
      ]
     },
     "metadata": {},
     "output_type": "display_data"
    }
   ],
   "source": [
    "print(f'Modal number of shuffles is: {max(set(number_of_shuffles_random), key=number_of_shuffles_random.count)}')\n",
    "print(f'Average number of shuffles is: {sum(number_of_shuffles_random)/len(number_of_shuffles_random)}')\n",
    "\n",
    "q = [number_of_shuffles_random, number_of_shuffles_unshuffled]\n",
    "\n",
    "b = len(q)\n",
    "\n",
    "dist = {}\n",
    "\n",
    "for a in range(b):\n",
    "    dist[str(a)] = {x:q[a].count(x) for x in q[a]}\n",
    "\n",
    "a4_dims = (11.7, 8.27)\n",
    "fig, ax = pyplot.subplots(figsize=a4_dims)\n",
    "\n",
    "for a in [number_of_shuffles_random, number_of_shuffles_unshuffled]:\n",
    "    seaborn.distplot(a, ax=ax, kde=False)"
   ]
  },
  {
   "cell_type": "code",
   "execution_count": 24,
   "metadata": {},
   "outputs": [
    {
     "data": {
      "text/plain": [
       "<seaborn.axisgrid.FacetGrid at 0xa6978b2c>"
      ]
     },
     "execution_count": 24,
     "metadata": {},
     "output_type": "execute_result"
    },
    {
     "data": {
      "image/png": "[encoded data removed]",
      "text/plain": [
       "<matplotlib.figure.Figure at 0xa6978d6c>"
      ]
     },
     "metadata": {},
     "output_type": "display_data"
    }
   ],
   "source": [
    "highest_count = max([max(dist[key].keys()) for key in dist.keys()])\n",
    "\n",
    "data = []\n",
    "\n",
    "for a in range(b):\n",
    "    value = []\n",
    "    index = []\n",
    "    for i in range(highest_count + 1):\n",
    "        index.append(i)\n",
    "        if i in set(dist[str(a)].keys()):\n",
    "            value.append(dist[str(a)][i])\n",
    "        else:\n",
    "            value.append(None)\n",
    "    \n",
    "    data.append(value)\n",
    "\n",
    "test = pd.DataFrame(data, index=['random', 'set']).transpose()\n",
    "\n",
    "test.reset_index(inplace=True)\n",
    "\n",
    "test_melt = test.melt('index', var_name='cols', value_name='vals')\n",
    "\n",
    "g = seaborn.lmplot(x='index', y='vals', hue='cols', \n",
    "                   data=test_melt, fit_reg=None,\n",
    "                   size=10)\n",
    "\n",
    "g.set(xticks=test['index'][0::20])"
   ]
  },
  {
   "cell_type": "code",
   "execution_count": 26,
   "metadata": {},
   "outputs": [],
   "source": [
    "test = test.fillna(0.0)\n",
    "\n",
    "for a in ['random', 'set']:\n",
    "    test[a + ' cumulative'] = pd.Series([sum(filter(None, test[a][:i])) for i in list(test.index)])"
   ]
  },
  {
   "cell_type": "code",
   "execution_count": 27,
   "metadata": {},
   "outputs": [
    {
     "name": "stdout",
     "output_type": "stream",
     "text": [
      "Number of shuffles for random with 50% chance of criteria success: 24\n",
      "\n",
      "Number of shuffles for set with 50% chance of criteria success: 22\n",
      "\n"
     ]
    },
    {
     "data": {
      "image/png": "[encoded data removed]",
      "text/plain": [
       "<matplotlib.figure.Figure at 0xa698b3ac>"
      ]
     },
     "metadata": {},
     "output_type": "display_data"
    }
   ],
   "source": [
    "cumulative = test[['index', 'random cumulative', 'set cumulative']]\n",
    "\n",
    "cumulative_melt = cumulative.melt(id_vars='index',\n",
    "                                  var_name='cols', value_name='vals')\n",
    "\n",
    "\n",
    "positions = {}\n",
    "\n",
    "strings = ['random cumulative', 'set cumulative']\n",
    "\n",
    "for a in strings:\n",
    "    positions[a] = cumulative.loc[cumulative[a] >= 500].index[0]\n",
    "\n",
    "g = seaborn.lmplot(x='index',\n",
    "                   y='vals', hue='cols',\n",
    "                   data=cumulative_melt, fit_reg=None,\n",
    "                   size=10)\n",
    "\n",
    "g.set(xticks=test['index'][0::20])\n",
    "\n",
    "g.set(xlabel='number of shuffles', ylabel='cumulative frequency')\n",
    "\n",
    "for a in positions.keys():\n",
    "    print(f'Number of shuffles for {a.split()[0]} with 50% chance of criteria success: {positions[a]}\\n')\n",
    "    pyplot.plot([positions[a], positions[a]], [0, 1000])"
   ]
  },
  {
   "cell_type": "code",
   "execution_count": null,
   "metadata": {},
   "outputs": [],
   "source": []
  }
 ],
 "metadata": {
  "kernelspec": {
   "display_name": "Python 3",
   "language": "python",
   "name": "python3"
  },
  "language_info": {
   "codemirror_mode": {
    "name": "ipython",
    "version": 3
   },
   "file_extension": ".py",
   "mimetype": "text/x-python",
   "name": "python",
   "nbconvert_exporter": "python",
   "pygments_lexer": "ipython3",
   "version": "3.6.1"
  },
  "varInspector": {
   "cols": {
    "lenName": 16,
    "lenType": 16,
    "lenVar": 40
   },
   "kernels_config": {
    "python": {
     "delete_cmd_postfix": "",
     "delete_cmd_prefix": "del ",
     "library": "var_list.py",
     "varRefreshCmd": "print(var_dic_list())"
    },
    "r": {
     "delete_cmd_postfix": ") ",
     "delete_cmd_prefix": "rm(",
     "library": "var_list.r",
     "varRefreshCmd": "cat(var_dic_list()) "
    }
   },
   "types_to_exclude": [
    "module",
    "function",
    "builtin_function_or_method",
    "instance",
    "_Feature"
   ],
   "window_display": false
  }
 },
 "nbformat": 4,
 "nbformat_minor": 2
}
